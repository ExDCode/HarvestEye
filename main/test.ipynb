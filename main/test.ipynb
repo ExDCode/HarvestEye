{
 "cells": [
  {
   "cell_type": "code",
   "execution_count": 166,
   "metadata": {},
   "outputs": [],
   "source": [
    "import os\n",
    "from classesCHANGE import PointCloudGenerator\n",
    "import time\n",
    "import plyfile \n",
    "import open3d as o3d\n",
    "from sklearn.cluster import KMeans, DBSCAN\n",
    "from sklearn.preprocessing import StandardScaler\n",
    "import numpy as np\n",
    "import matplotlib as plt"
   ]
  },
  {
   "cell_type": "code",
   "execution_count": 2,
   "metadata": {},
   "outputs": [],
   "source": [
    "#data = plyfile.PlyData.read(r'C:\\Users\\Jay\\Documents\\Github\\HarvestEye\\Avocado100_30deg_group1_densified_point_cloud.ply')\n",
    "#data.text = True\n",
    "#data.write('avoFixed.ply')"
   ]
  },
  {
   "cell_type": "code",
   "execution_count": 4,
   "metadata": {},
   "outputs": [],
   "source": [
    "pcd = o3d.io.read_point_cloud(r'C:\\Users\\Jay\\Documents\\Github\\HarvestEye\\main\\avoFixed.ply')\n",
    "o3d.visualization.draw_geometries([pcd])\n"
   ]
  },
  {
   "cell_type": "code",
   "execution_count": 5,
   "metadata": {},
   "outputs": [],
   "source": [
    "# Downsample pcd\n",
    "voxel_size = 0.2\n",
    "downsampled_pcd = pcd.voxel_down_sample(voxel_size)\n",
    "# Convert point cloud to numpy array\n",
    "points = np.asarray(downsampled_pcd.points)\n",
    "colors = np.asarray(downsampled_pcd.colors)\n",
    "# print(colors)\n",
    "\n",
    "# Concatenate XYZ and RGB values\n",
    "xyzrgb = np.hstack((points, colors))\n",
    "scaler = StandardScaler()\n",
    "xyzrgb_normalized = scaler.fit_transform(xyzrgb)"
   ]
  },
  {
   "cell_type": "code",
   "execution_count": 12,
   "metadata": {},
   "outputs": [],
   "source": [
    "num_clusters = 2\n",
    "weights = [5, 5, 500, 1, 550, 1]\n",
    "weighted_xyzrgb = xyzrgb_normalized*weights[:]\n",
    "kmeans = KMeans(n_clusters=num_clusters, random_state=0).fit(weighted_xyzrgb)\n",
    "k_means_labels = kmeans.labels_\n",
    "cluster_colors = np.zeros_like(colors)\n",
    "# Define the colors\n",
    "green_color = [0, 150/255, 0]  # Green color\n",
    "brown_color = [0.647, 0.165, 0.165]  # Brown color\n",
    "\n",
    "# Find the label with the larger cluster\n",
    "larger_cluster_label = np.argmax(np.bincount(k_means_labels))\n",
    "\n",
    "# Assign colors based on cluster sizes\n",
    "for i in range(num_clusters):\n",
    "    if i == larger_cluster_label:\n",
    "        cluster_colors[k_means_labels == i] = brown_color # Brown color\n",
    "    else:\n",
    "        cluster_colors[k_means_labels == i] = green_color  # Green color\n",
    "\n",
    "seg_pcd = downsampled_pcd\n",
    "seg_pcd.colors = o3d.utility.Vector3dVector(cluster_colors)\n",
    "o3d.visualization.draw_geometries([seg_pcd])"
   ]
  },
  {
   "cell_type": "code",
   "execution_count": 14,
   "metadata": {},
   "outputs": [],
   "source": [
    "ground_points = points[k_means_labels == larger_cluster_label]\n",
    "tree_points = points[k_means_labels != larger_cluster_label]\n",
    "\n",
    "# Assign colors to tree points (green) and ground points (brown)\n",
    "tree_colors = np.full_like(tree_points[:, :3], [0, 0, 0])\n",
    "ground_colors = np.full_like(ground_points[:, :3], [1, 1, 1])\n",
    "\n",
    "# Convert the green points to an Open3D point cloud\n",
    "tree_pcd = o3d.geometry.PointCloud()\n",
    "tree_pcd.points = o3d.utility.Vector3dVector(tree_points[:, :3])  # Assuming only xyz data is needed\n",
    "tree_pcd.colors = o3d.utility.Vector3dVector(tree_colors)\n",
    "\n",
    "# Visualize the green points (trees)\n",
    "o3d.visualization.draw_geometries([tree_pcd] + [pcd])"
   ]
  },
  {
   "cell_type": "code",
   "execution_count": 8,
   "metadata": {},
   "outputs": [],
   "source": [
    "o3d.visualization.draw_geometries([tree_pcd])"
   ]
  },
  {
   "cell_type": "code",
   "execution_count": 152,
   "metadata": {},
   "outputs": [],
   "source": [
    "#Extract only the xy coordinates\n",
    "xy_points = tree_points[:, :2]\n",
    "\n",
    "#Perform DBSCAN clustering on xy coordinates\n",
    "eps = 0.2  # Adjust this parameter based on the density of your point cloud\n",
    "min_samples = 1\n",
    "dbscan = DBSCAN(eps=eps, min_samples=min_samples).fit(xy_points)\n",
    "dbscan_labels = dbscan.labels_\n",
    "\n",
    "#Now, retrieve the Z coordinates for clustered tree points\n",
    "clustered_tree_indices = np.where(dbscan_labels != -1)[0]  # Indices of points that are not noise\n",
    "#Now, retrieve the Z coordinates for clustered tree points\n",
    "clustered_tree_points = tree_points[clustered_tree_indices]\n",
    "\n",
    "import random\n",
    "#Convert clustered_tree_points to an Open3D point cloud\n",
    "dbscan_clusters_pcd = o3d.geometry.PointCloud()\n",
    "dbscan_clusters_pcd.points = o3d.utility.Vector3dVector(clustered_tree_points)\n",
    "\n",
    "# Assign random colors to each cluster\n",
    "cluster_colors = {}\n",
    "for label in np.unique(dbscan_labels):\n",
    "    if label == -1:  # Skip noise points\n",
    "        continue\n",
    "    color = [random.uniform(0, 1), random.uniform(0, 1), random.uniform(0, 1)]  # Generate a random RGB color\n",
    "    cluster_colors[label] = color\n",
    "\n",
    "# Assign colors to each point based on its cluster\n",
    "point_colors = []\n",
    "for label in dbscan_labels:\n",
    "    if label == -1:  # Noise points\n",
    "        point_colors.append([0.5, 0.5, 0.5])  # Gray color\n",
    "    else:\n",
    "        point_colors.append(cluster_colors[label])\n",
    "\n",
    "# Set colors for the clustered tree points\n",
    "dbscan_clusters_pcd.colors = o3d.utility.Vector3dVector(point_colors)\n",
    "\n",
    "# Set the visualization mode to \"unlit\" for precise color rendering\n",
    "o3d.visualization.draw_geometries([dbscan_clusters_pcd])# + [pcd])"
   ]
  },
  {
   "cell_type": "code",
   "execution_count": 167,
   "metadata": {},
   "outputs": [],
   "source": [
    "min_cluster_size = 5  # Minimum number of points for a cluster to be considered valid\n",
    "max_cluster_size = 1000  # Maximum number of points for a cluster to be considered valid\n",
    "dbscan_labels_filtered = dbscan_labels[dbscan_labels != -1] # Remove the noise label (-1)\n",
    "ls, cs = np.unique(dbscan_labels_filtered, return_counts=True)\n",
    "dic = dict(zip(ls,cs))\n",
    "\n",
    "# Create a list idx that stores each index that matches the required max and min cluster sizes\n",
    "idx = [] \n",
    "\n",
    "for i, label in enumerate(dbscan_labels_filtered):\n",
    "    if dic[label] >= min_cluster_size and label <= max_cluster_size:\n",
    "        idx.append(i)\n",
    "\n",
    "# Convert the point cloud to a numpy array\n",
    "points_array = np.asarray(dbscan_clusters_pcd.points)\n",
    "\n",
    "# Filter the points using the valid indices\n",
    "filtered_points = points_array[idx]\n",
    "\n",
    "# Assign deterministic colors to each cluster\n",
    "num_clusters = len(np.unique(dbscan_labels_filtered))\n",
    "colors = plt.cm.tab10(np.arange(num_clusters))[:, :3]  # Use a colormap for deterministic colors\n",
    "\n",
    "# Assign colors to each point based on its cluster\n",
    "point_colors = []\n",
    "for label in dbscan_labels_filtered:\n",
    "        color = colors[label % num_clusters]  # Use deterministic colors\n",
    "        point_colors.append(color)\n",
    "\n",
    "# Create a new point cloud from the filtered points\n",
    "filtered_pcd = o3d.geometry.PointCloud()\n",
    "filtered_pcd.points = o3d.utility.Vector3dVector(filtered_points)\n",
    "filtered_pcd.colors = o3d.utility.Vector3dVector(point_colors)\n",
    "\n",
    "# Visualize the filtered point cloud\n",
    "o3d.visualization.draw_geometries([filtered_pcd])"
   ]
  }
 ],
 "metadata": {
  "kernelspec": {
   "display_name": "venv",
   "language": "python",
   "name": "python3"
  },
  "language_info": {
   "codemirror_mode": {
    "name": "ipython",
    "version": 3
   },
   "file_extension": ".py",
   "mimetype": "text/x-python",
   "name": "python",
   "nbconvert_exporter": "python",
   "pygments_lexer": "ipython3",
   "version": "3.11.7"
  }
 },
 "nbformat": 4,
 "nbformat_minor": 2
}
