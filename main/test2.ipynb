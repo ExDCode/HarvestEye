{
 "cells": [
  {
   "cell_type": "code",
   "execution_count": 1,
   "metadata": {},
   "outputs": [
    {
     "name": "stdout",
     "output_type": "stream",
     "text": [
      "Jupyter environment detected. Enabling Open3D WebVisualizer.\n",
      "[Open3D INFO] WebRTC GUI backend enabled.\n",
      "[Open3D INFO] WebRTCWindowSystem: HTTP handshake server disabled.\n"
     ]
    }
   ],
   "source": [
    "import os\n",
    "from classesCHANGE import PointCloudFiltering, UnsupervisedSegmentationAlgorithm, PointCloudGenerator, CropAnalyzer\n",
    "import time\n",
    "import plyfile \n",
    "import open3d as o3d\n",
    "from sklearn.cluster import KMeans, DBSCAN\n",
    "from sklearn.preprocessing import StandardScaler\n",
    "import numpy as np\n",
    "import matplotlib as plt"
   ]
  },
  {
   "cell_type": "code",
   "execution_count": 2,
   "metadata": {},
   "outputs": [],
   "source": [
    "# Instantiate classes\n",
    "pcd_filtering = PointCloudFiltering()\n",
    "unsup_segmentation = UnsupervisedSegmentationAlgorithm()\n",
    "pcd_functions = PointCloudGenerator(r\"C:/Users/Jay\")\n"
   ]
  },
  {
   "cell_type": "code",
   "execution_count": 3,
   "metadata": {},
   "outputs": [],
   "source": [
    "pcd = o3d.io.read_point_cloud(r'C:\\Users\\Jay\\Documents\\Github\\HarvestEye\\main\\avoFixed.ply')\n",
    "o3d.visualization.draw_geometries([pcd])"
   ]
  },
  {
   "cell_type": "code",
   "execution_count": 4,
   "metadata": {},
   "outputs": [],
   "source": [
    "# Downsample the point cloud\n",
    "voxel_size = 0.2\n",
    "downsampled_pcd = pcd_functions.downsamples_pointcloud(pcd, voxel_size)\n",
    "\n",
    "# Normalize the point cloud\n",
    "xyzrgb_normalized = pcd_functions.pcd_array_normalized(downsampled_pcd)\n",
    "\n",
    "# Define weights and number of clusters for KMeans\n",
    "weights = [5, 5, 500, 1, 550, 1]\n",
    "num_clusters = 2\n",
    "kmeans_labels, kmeans = unsup_segmentation.normalized_and_weighted_kmeans(weights, xyzrgb_normalized, num_clusters)\n",
    "\n",
    "# Prepare cluster colors array\n",
    "cluster_colors = np.zeros_like(xyzrgb_normalized[:, :3])  # Use only the XYZ part for colors\n",
    "\n",
    "# Define colors for clusters\n",
    "colors = {\n",
    "    \"green\": [0, 150/255, 0],  # Green color\n",
    "    \"brown\": [0.647, 0.165, 0.165]  # Brown color\n",
    "}\n",
    "\n",
    "# Identify the larger cluster\n",
    "larger_cluster_label = np.argmax(np.bincount(kmeans_labels))\n",
    "\n",
    "# Assign colors based on cluster sizes\n",
    "for i in range(num_clusters):\n",
    "    color = colors[\"brown\"] if i == larger_cluster_label else colors[\"green\"]\n",
    "    cluster_colors[kmeans_labels == i] = color\n",
    "\n",
    "seg_pcd = downsampled_pcd\n",
    "seg_pcd.colors = o3d.utility.Vector3dVector(cluster_colors)\n",
    "o3d.visualization.draw_geometries([seg_pcd])"
   ]
  },
  {
   "cell_type": "code",
   "execution_count": 5,
   "metadata": {},
   "outputs": [],
   "source": [
    "ground_points = np.asarray(seg_pcd.points)[kmeans_labels == larger_cluster_label]\n",
    "crop_points = np.asarray(seg_pcd.points)[kmeans_labels != larger_cluster_label]\n",
    "\n",
    "# Filter the Ground Points list\n",
    "pcd_filtering.filter_ground_points()\n",
    "\n",
    "# Filter the Crop Points via a grid\n",
    "pcd_filtering.filter_points_by_grid()\n",
    "\n",
    "# Filter the resulting DBSCAN by min and max cluster sizes\n",
    "pcd_filtering.dbscan_cluster_filtering()\n",
    "\n",
    "crop_points_xy = crop_points[:, :2]\n",
    "# Filter points based on DBSCAN clustering\n",
    "eps = 0.2  # epsilon value for DBSCAN\n",
    "dbscan_labels, clustered_points_xyz = unsup_segmentation.crop_clustering_dbscan(eps, crop_points_xy)\n",
    "\n",
    "#Now, retrieve the Z coordinates for clustered tree points\n",
    "clustered_crop_indices = np.where(dbscan_labels != -1)[0]  # Indices of points that are not noise\n",
    "#Now, retrieve the Z coordinates for clustered tree points\n",
    "clustered_tree_points = crop_points[clustered_crop_indices]\n",
    "\n",
    "import random\n",
    "#Convert clustered_tree_points to an Open3D point cloud\n",
    "dbscan_clusters_pcd = o3d.geometry.PointCloud()\n",
    "dbscan_clusters_pcd.points = o3d.utility.Vector3dVector(clustered_tree_points)\n",
    "\n",
    "# Assign random colors to each cluster\n",
    "cluster_colors = {}\n",
    "for label in np.unique(dbscan_labels):\n",
    "    if label == -1:  # Skip noise points\n",
    "        continue\n",
    "    color = [random.uniform(0, 1), random.uniform(0, 1), random.uniform(0, 1)]  # Generate a random RGB color\n",
    "    cluster_colors[label] = color\n",
    "\n",
    "# Assign colors to each point based on its cluster\n",
    "point_colors = []\n",
    "for label in dbscan_labels:\n",
    "    if label == -1:  # Noise points\n",
    "        point_colors.append([0.5, 0.5, 0.5])  # Gray color\n",
    "    else:\n",
    "        point_colors.append(cluster_colors[label])\n",
    "\n",
    "# Set colors for the clustered tree points\n",
    "dbscan_clusters_pcd.colors = o3d.utility.Vector3dVector(point_colors)\n",
    "\n",
    "# Set the visualization mode to \"unlit\" for precise color rendering\n",
    "o3d.visualization.draw_geometries([dbscan_clusters_pcd])# + [pcd])\n",
    "\n"
   ]
  },
  {
   "cell_type": "code",
   "execution_count": null,
   "metadata": {},
   "outputs": [],
   "source": [
    "crop_analyzer = CropAnalyzer()\n",
    "\n",
    "\n"
   ]
  }
 ],
 "metadata": {
  "kernelspec": {
   "display_name": "venv",
   "language": "python",
   "name": "python3"
  },
  "language_info": {
   "codemirror_mode": {
    "name": "ipython",
    "version": 3
   },
   "file_extension": ".py",
   "mimetype": "text/x-python",
   "name": "python",
   "nbconvert_exporter": "python",
   "pygments_lexer": "ipython3",
   "version": "3.11.7"
  }
 },
 "nbformat": 4,
 "nbformat_minor": 2
}
