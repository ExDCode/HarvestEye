{
 "cells": [
  {
   "cell_type": "code",
   "execution_count": 33,
   "metadata": {},
   "outputs": [],
   "source": [
    "import os\n",
    "from classesCHANGE import PointCloudFiltering, UnsupervisedSegmentationAlgorithm, PointCloudGenerator, CropAnalyzer\n",
    "import time\n",
    "import plyfile \n",
    "import open3d as o3d\n",
    "from sklearn.cluster import KMeans, DBSCAN\n",
    "from sklearn.preprocessing import StandardScaler\n",
    "import numpy as np\n",
    "import matplotlib as plt"
   ]
  },
  {
   "cell_type": "code",
   "execution_count": 34,
   "metadata": {},
   "outputs": [],
   "source": [
    "# Instantiate classes\n",
    "pcd_filtering = PointCloudFiltering()\n",
    "unsup_segmentation = UnsupervisedSegmentationAlgorithm()\n",
    "pcd_functions = PointCloudGenerator(r\"C:/Users/Jay\")\n"
   ]
  },
  {
   "cell_type": "code",
   "execution_count": 35,
   "metadata": {},
   "outputs": [],
   "source": [
    "pcd = o3d.io.read_point_cloud(r'C:\\Users\\Jay\\Documents\\Github\\HarvestEye\\main\\avoFixed.ply')\n",
    "o3d.visualization.draw_geometries([pcd])"
   ]
  },
  {
   "cell_type": "code",
   "execution_count": 69,
   "metadata": {},
   "outputs": [],
   "source": [
    "# Downsample the point cloud\n",
    "voxel_size = 0.3\n",
    "downsampled_pcd = pcd_functions.downsamples_pointcloud(pcd, voxel_size)\n",
    "\n",
    "# Normalize the point cloud\n",
    "xyzrgb_normalized = pcd_functions.pcd_array_normalized(downsampled_pcd)\n",
    "\n",
    "# Define weights and number of clusters for KMeans\n",
    "weights = [5, 5, 500, 1, 550, 1]\n",
    "num_clusters = 2\n",
    "kmeans_labels, kmeans = unsup_segmentation.normalized_and_weighted_kmeans(weights, xyzrgb_normalized, num_clusters)\n",
    "\n",
    "# Prepare cluster colors array\n",
    "cluster_colors = np.zeros_like(xyzrgb_normalized[:, :3])  # Use only the XYZ part for colors\n",
    "\n",
    "# Define colors for clusters\n",
    "colors = {\n",
    "    \"green\": [0, 150/255, 0],  # Green color\n",
    "    \"brown\": [0.647, 0.165, 0.165]  # Brown color\n",
    "}\n",
    "\n",
    "# Identify the larger cluster\n",
    "larger_cluster_label = np.argmax(np.bincount(kmeans_labels))\n",
    "\n",
    "# Assign colors based on cluster sizes\n",
    "for i in range(num_clusters):\n",
    "    color = colors[\"brown\"] if i == larger_cluster_label else colors[\"green\"]\n",
    "    cluster_colors[kmeans_labels == i] = color\n",
    "\n",
    "seg_pcd = downsampled_pcd\n",
    "seg_pcd.colors = o3d.utility.Vector3dVector(cluster_colors)\n",
    "o3d.visualization.draw_geometries([seg_pcd])"
   ]
  },
  {
   "cell_type": "code",
   "execution_count": 56,
   "metadata": {},
   "outputs": [],
   "source": [
    "o3d.visualization.draw_geometries([seg_pcd] + [pcd])"
   ]
  },
  {
   "cell_type": "code",
   "execution_count": 70,
   "metadata": {},
   "outputs": [],
   "source": [
    "import importlib\n",
    "import classesCHANGE\n",
    "importlib.reload(classesCHANGE)\n",
    "\n",
    "# Re-import the specific classes from the module\n",
    "from classesCHANGE import PointCloudFiltering, UnsupervisedSegmentationAlgorithm, PointCloudGenerator, CropAnalyzer\n",
    "\n",
    "# Now use the classes as needed\n",
    "pcd_filtering = PointCloudFiltering()\n",
    "\n",
    "ground_points = np.asarray(seg_pcd.points)[kmeans_labels == larger_cluster_label]\n",
    "crop_points = np.asarray(seg_pcd.points)[kmeans_labels != larger_cluster_label]\n",
    "\n"
   ]
  },
  {
   "cell_type": "code",
   "execution_count": 75,
   "metadata": {},
   "outputs": [],
   "source": [
    "x_min, x_max = np.min(ground_points[:, 0]), np.max(ground_points[:, 0])\n",
    "x_range = x_max - x_min\n",
    "grid_resolution = x_range / 2\n",
    "\n",
    "# Filter the Ground Points list\n",
    "filtered_ground_points = pcd_filtering.filter_ground_points(ground_points, 5, grid_resolution, 0.15)\n",
    "filtered_ground_pcd = o3d.geometry.PointCloud()\n",
    "filtered_ground_pcd.points = o3d.utility.Vector3dVector(filtered_ground_points)\n",
    "o3d.visualization.draw_geometries([filtered_ground_pcd]) #+ [seg_pcd])"
   ]
  },
  {
   "cell_type": "code",
   "execution_count": 78,
   "metadata": {},
   "outputs": [],
   "source": [
    "filtered_crop_points = pcd_filtering.filter_points_by_grid(crop_points, 0.75, 0.5, 1)\n",
    "filtered_crop_pcd = o3d.geometry.PointCloud()\n",
    "filtered_crop_pcd.points = o3d.utility.Vector3dVector(filtered_crop_points)\n",
    "o3d.visualization.draw_geometries([filtered_crop_pcd])"
   ]
  },
  {
   "cell_type": "code",
   "execution_count": 92,
   "metadata": {},
   "outputs": [],
   "source": [
    "# Filter points based on DBSCAN clustering\n",
    "eps = 0.28  # epsilon value for DBSCAN\n",
    "dbscan_labels, clustered_points_xyz = unsup_segmentation.crop_clustering_dbscan(eps, filtered_crop_points)\n",
    "\n",
    "#Now, retrieve the Z coordinates for clustered tree points\n",
    "clustered_crop_indices = np.where(dbscan_labels != -1)[0]  # Indices of points that are not noise\n",
    "#Now, retrieve the Z coordinates for clustered tree points\n",
    "clustered_tree_points = filtered_crop_points[clustered_crop_indices]\n",
    "\n",
    "import random\n",
    "#Convert clustered_tree_points to an Open3D point cloud\n",
    "dbscan_clusters_pcd = o3d.geometry.PointCloud()\n",
    "dbscan_clusters_pcd.points = o3d.utility.Vector3dVector(clustered_points_xyz)\n",
    "\n",
    "# Assign random colors to each cluster\n",
    "cluster_colors = {}\n",
    "for label in np.unique(dbscan_labels):\n",
    "    if label == -1:  # Skip noise points\n",
    "        continue\n",
    "    color = [random.uniform(0, 1), random.uniform(0, 1), random.uniform(0, 1)]  # Generate a random RGB color\n",
    "    cluster_colors[label] = color\n",
    "\n",
    "# Assign colors to each point based on its cluster\n",
    "point_colors = []\n",
    "for label in dbscan_labels:\n",
    "    if label == -1:  # Noise points\n",
    "        point_colors.append([0.5, 0.5, 0.5])  # Gray color\n",
    "    else:\n",
    "        point_colors.append(cluster_colors[label])\n",
    "\n",
    "# Set colors for the clustered tree points\n",
    "dbscan_clusters_pcd.colors = o3d.utility.Vector3dVector(point_colors)\n",
    "\n",
    "# Set the visualization mode to \"unlit\" for precise color rendering\n",
    "o3d.visualization.draw_geometries([dbscan_clusters_pcd])# + [pcd])\n",
    "\n"
   ]
  },
  {
   "cell_type": "code",
   "execution_count": null,
   "metadata": {},
   "outputs": [],
   "source": [
    "crop_analyzer = CropAnalyzer()\n",
    "\n",
    "\n"
   ]
  }
 ],
 "metadata": {
  "kernelspec": {
   "display_name": "venv",
   "language": "python",
   "name": "python3"
  },
  "language_info": {
   "codemirror_mode": {
    "name": "ipython",
    "version": 3
   },
   "file_extension": ".py",
   "mimetype": "text/x-python",
   "name": "python",
   "nbconvert_exporter": "python",
   "pygments_lexer": "ipython3",
   "version": "3.11.7"
  }
 },
 "nbformat": 4,
 "nbformat_minor": 2
}
